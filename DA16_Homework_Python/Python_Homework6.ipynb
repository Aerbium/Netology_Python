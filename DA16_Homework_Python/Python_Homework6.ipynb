{
 "cells": [
  {
   "cell_type": "markdown",
   "metadata": {},
   "source": [
    "## Домашнее задание № 6. Исключения и обработка ошибок"
   ]
  },
  {
   "cell_type": "markdown",
   "metadata": {},
   "source": [
    "### Задание 1\n",
    "\n"
   ]
  },
  {
   "cell_type": "markdown",
   "metadata": {},
   "source": [
    "- [x] Печатные газеты использовали свой формат дат для каждого выпуска. Для каждой газеты из списка напишите формат указанной даты для перевода в объект datetime:\n",
    "\n",
    "\n",
    "1. The Moscow Times - Wednesday, October 2, 2002\n",
    "2. The Guardian - Friday, 11.10.13\n",
    "3. Daily News - Thursday, 18 August 1977"
   ]
  },
  {
   "cell_type": "code",
   "execution_count": 19,
   "metadata": {},
   "outputs": [],
   "source": [
    "from datetime import datetime\n",
    "\n",
    "Newspapers = ['The Moscow Times', 'The Guardian', 'Daily News']\n",
    "\n",
    "date_test = {}\n",
    "date_test.update({Newspapers[0]:'Wednesday, October 2, 2002',Newspapers[1]:'Friday, 11.10.13',Newspapers[2]:'Thursday, 18 August 1977'})\n",
    "\n",
    "date_format = {}\n",
    "date_format.update({Newspapers[0]:'%A, %B %d, %Y', Newspapers[1]:'%A, %m.%d.%y', Newspapers[2]:'%A, %d %B %Y'})\n"
   ]
  },
  {
   "cell_type": "code",
   "execution_count": 20,
   "metadata": {},
   "outputs": [
    {
     "name": "stdout",
     "output_type": "stream",
     "text": [
      "The Moscow Times date fromat is : 2002-10-02 00:00:00\n",
      "The Guardian date fromat is : 2013-11-10 00:00:00\n",
      "Daily News date fromat is : 1977-08-18 00:00:00\n"
     ]
    }
   ],
   "source": [
    "for np in Newspapers:\n",
    "    date_ = datetime.strptime(date_test[np],date_format[np])\n",
    "    print(f'{np} date fromat is : {date_}')\n",
    "    "
   ]
  },
  {
   "cell_type": "markdown",
   "metadata": {},
   "source": [
    "### Задание 2"
   ]
  },
  {
   "cell_type": "markdown",
   "metadata": {},
   "source": [
    "- [x] Дан поток дат в формате YYYY-MM-DD, в которых встречаются некорректные значения:\n",
    "stream = [‘2018-04-02’, ‘2018-02-29’, ‘2018-19-02’]\n",
    "\n",
    "Напишите функцию, которая проверяет эти даты на корректность. Т. е. для каждой даты возвращает True (дата корректна) или False (некорректная дата)."
   ]
  },
  {
   "cell_type": "code",
   "execution_count": 24,
   "metadata": {},
   "outputs": [],
   "source": [
    "def date_checker(dates, date_format = '%Y-%m-%d'):\n",
    "    result = []\n",
    "    for date_sample in dates:\n",
    "        try:\n",
    "            datetime.strptime(date_sample, date_format)\n",
    "            result.append((date_sample, True))\n",
    "        except ValueError:\n",
    "            result.append((date_sample, False))   \n",
    "    \n",
    "    return result"
   ]
  },
  {
   "cell_type": "code",
   "execution_count": 25,
   "metadata": {},
   "outputs": [
    {
     "name": "stdout",
     "output_type": "stream",
     "text": [
      "[('2018-04-02', True), ('2018-02-29', False), ('2018-19-02', False)]\n"
     ]
    }
   ],
   "source": [
    "stream = ['2018-04-02', '2018-02-29', '2018-19-02']\n",
    "    \n",
    "print(date_checker(stream))"
   ]
  },
  {
   "cell_type": "markdown",
   "metadata": {},
   "source": [
    "## Задание 3"
   ]
  },
  {
   "cell_type": "markdown",
   "metadata": {},
   "source": [
    "- [x] Напишите функцию date_range, которая возвращает список дат за период от start_date до end_date. Даты должны вводиться в формате YYYY-MM-DD. В случае неверного формата или при start_date > end_date должен возвращаться пустой список."
   ]
  },
  {
   "cell_type": "code",
   "execution_count": 33,
   "metadata": {},
   "outputs": [],
   "source": [
    "from datetime import timedelta\n",
    "\n",
    "def date_range(start_date, end_date):\n",
    "    if start_date > end_date:\n",
    "        print('Error. Start_Date more than End_Date')\n",
    "        return []\n",
    "    else:\n",
    "        try:\n",
    "            start_date = datetime.strptime(start_date,'%Y-%m-%d')\n",
    "            end_date = datetime.strptime(end_date,'%Y-%m-%d')\n",
    "            current_date = start_date\n",
    "            result = []\n",
    "            while current_date <= end_date:\n",
    "                result.append(current_date.strftime('%Y-%m-%d'))\n",
    "                current_date += timedelta(days = 1)\n",
    "            return result\n",
    "        except ValueError:\n",
    "            print('Error. Wrong date format. It should be YYYY-MM-DD for both dates')\n",
    "            return []"
   ]
  },
  {
   "cell_type": "code",
   "execution_count": 36,
   "metadata": {},
   "outputs": [
    {
     "data": {
      "text/plain": [
       "['2018-04-02',\n",
       " '2018-04-03',\n",
       " '2018-04-04',\n",
       " '2018-04-05',\n",
       " '2018-04-06',\n",
       " '2018-04-07',\n",
       " '2018-04-08',\n",
       " '2018-04-09',\n",
       " '2018-04-10',\n",
       " '2018-04-11',\n",
       " '2018-04-12',\n",
       " '2018-04-13',\n",
       " '2018-04-14',\n",
       " '2018-04-15',\n",
       " '2018-04-16',\n",
       " '2018-04-17',\n",
       " '2018-04-18']"
      ]
     },
     "execution_count": 36,
     "metadata": {},
     "output_type": "execute_result"
    }
   ],
   "source": [
    "date_range('2018-04-02','2018-04-18')"
   ]
  },
  {
   "cell_type": "markdown",
   "metadata": {},
   "source": [
    "## Задание 4"
   ]
  },
  {
   "cell_type": "code",
   "execution_count": 42,
   "metadata": {},
   "outputs": [],
   "source": [
    "DEFAULT_USER_COUNT = 3"
   ]
  },
  {
   "cell_type": "code",
   "execution_count": 46,
   "metadata": {},
   "outputs": [
    {
     "name": "stdout",
     "output_type": "stream",
     "text": [
      "['A100', 'A101', 'A102']\n",
      "['A100', 'A101']\n"
     ]
    },
    {
     "ename": "IndexError",
     "evalue": "list index out of range",
     "output_type": "error",
     "traceback": [
      "\u001b[1;31m---------------------------------------------------------------------------\u001b[0m",
      "\u001b[1;31mIndexError\u001b[0m                                Traceback (most recent call last)",
      "\u001b[1;32m<ipython-input-46-46b0d627931f>\u001b[0m in \u001b[0;36m<module>\u001b[1;34m\u001b[0m\n\u001b[0;32m     11\u001b[0m \u001b[1;33m\u001b[0m\u001b[0m\n\u001b[0;32m     12\u001b[0m \u001b[0mdelete_and_return_last_user\u001b[0m\u001b[1;33m(\u001b[0m\u001b[1;36m1\u001b[0m\u001b[1;33m)\u001b[0m\u001b[1;33m\u001b[0m\u001b[1;33m\u001b[0m\u001b[0m\n\u001b[1;32m---> 13\u001b[1;33m \u001b[0mdelete_and_return_last_user\u001b[0m\u001b[1;33m(\u001b[0m\u001b[1;36m1\u001b[0m\u001b[1;33m)\u001b[0m\u001b[1;33m\u001b[0m\u001b[1;33m\u001b[0m\u001b[0m\n\u001b[0m",
      "\u001b[1;32m<ipython-input-46-46b0d627931f>\u001b[0m in \u001b[0;36mdelete_and_return_last_user\u001b[1;34m(region, default_list)\u001b[0m\n\u001b[0;32m      8\u001b[0m     \u001b[0mdefault_list\u001b[0m\u001b[1;33m.\u001b[0m\u001b[0mremove\u001b[0m\u001b[1;33m(\u001b[0m\u001b[0melement_to_delete\u001b[0m\u001b[1;33m)\u001b[0m\u001b[1;33m\u001b[0m\u001b[1;33m\u001b[0m\u001b[0m\n\u001b[0;32m      9\u001b[0m \u001b[1;33m\u001b[0m\u001b[0m\n\u001b[1;32m---> 10\u001b[1;33m     \u001b[1;32mreturn\u001b[0m \u001b[0mdefault_list\u001b[0m\u001b[1;33m[\u001b[0m\u001b[0mDEFAULT_USER_COUNT\u001b[0m\u001b[1;33m-\u001b[0m\u001b[1;36m2\u001b[0m\u001b[1;33m]\u001b[0m\u001b[1;33m\u001b[0m\u001b[1;33m\u001b[0m\u001b[0m\n\u001b[0m\u001b[0;32m     11\u001b[0m \u001b[1;33m\u001b[0m\u001b[0m\n\u001b[0;32m     12\u001b[0m \u001b[0mdelete_and_return_last_user\u001b[0m\u001b[1;33m(\u001b[0m\u001b[1;36m1\u001b[0m\u001b[1;33m)\u001b[0m\u001b[1;33m\u001b[0m\u001b[1;33m\u001b[0m\u001b[0m\n",
      "\u001b[1;31mIndexError\u001b[0m: list index out of range"
     ]
    }
   ],
   "source": [
    "def delete_and_return_last_user(region, default_list=['A100', 'A101','A102']):\n",
    "    \"\"\"\n",
    "    Удаляет из списка default_list последнего пользователя\n",
    "    и возвращает ID нового последнего пользователя.\n",
    "    \"\"\"\n",
    "    #print(default_list)\n",
    "    element_to_delete = default_list[-1]\n",
    "    default_list.remove(element_to_delete)\n",
    "\n",
    "    return default_list[DEFAULT_USER_COUNT-2]\n",
    "\n",
    "delete_and_return_last_user(1)\n",
    "delete_and_return_last_user(1)"
   ]
  },
  {
   "cell_type": "code",
   "execution_count": null,
   "metadata": {},
   "outputs": [],
   "source": []
  }
 ],
 "metadata": {
  "kernelspec": {
   "display_name": "Python 3",
   "language": "python",
   "name": "python3"
  },
  "language_info": {
   "codemirror_mode": {
    "name": "ipython",
    "version": 3
   },
   "file_extension": ".py",
   "mimetype": "text/x-python",
   "name": "python",
   "nbconvert_exporter": "python",
   "pygments_lexer": "ipython3",
   "version": "3.8.3"
  }
 },
 "nbformat": 4,
 "nbformat_minor": 4
}
