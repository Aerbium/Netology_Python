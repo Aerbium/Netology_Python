{
 "cells": [
  {
   "cell_type": "markdown",
   "metadata": {},
   "source": [
    "## Python_Homework 5. Работа с файловой системой и модули"
   ]
  },
  {
   "cell_type": "markdown",
   "metadata": {},
   "source": [
    " - [x] Переведите содержимое файла __purchase_log.txt__ в словарь __purchases__ вида: {‘1840e0b9d4’: ‘Продукты’, …}\n",
    " - [x] Для каждого __user_id__ в файле __visit_log.csv__ определите третий столбец с категорией покупки (если покупка была, сам файл __visit_log.csv__ изменять не надо). Запишите в файл __funnel.csv__ визиты из файла __visit_log.csv__, в которых были покупки с указанием категории.\n",
    "\n",
    "*  Учтите условия на данные:\n",
    "      * содержимое __purchase_log.txt__ помещается в оперативную память компьютера\n",
    "      * содержимое visit_log.csv - нет; используйте только построчную обработку этого файла"
   ]
  },
  {
   "cell_type": "code",
   "execution_count": 27,
   "metadata": {},
   "outputs": [],
   "source": [
    "import json\n",
    "\n",
    "purchases = {}\n",
    "with open('DATA/purchase_log.txt', 'r', encoding = 'utf-8') as file:\n",
    "    for row_num, row in enumerate(file):\n",
    "        if row_num == 0:\n",
    "            continue\n",
    "        else:\n",
    "            purchase = json.loads(row.strip())\n",
    "            purchases.update({purchase['user_id']:purchase['category']})"
   ]
  },
  {
   "cell_type": "code",
   "execution_count": 28,
   "metadata": {},
   "outputs": [],
   "source": [
    "with open('DATA/visit_log.csv','r') as file_read:\n",
    "    with open('DATA/funnel.csv', 'w') as file_write:\n",
    "        file_write.write('user_id,source,category\\n')\n",
    "        for row_num, row in enumerate(file_read):\n",
    "            if row_num == 0:\n",
    "                continue\n",
    "            else:\n",
    "                user_id, source = row.strip().split(',')\n",
    "                if user_id in purchases.keys():\n",
    "                    category = purchases[user_id]\n",
    "                    row_final = f'{user_id},{source},{category}\\n'\n",
    "                    file_write.write(row_final)            "
   ]
  }
 ],
 "metadata": {
  "kernelspec": {
   "display_name": "Python 3",
   "language": "python",
   "name": "python3"
  },
  "language_info": {
   "codemirror_mode": {
    "name": "ipython",
    "version": 3
   },
   "file_extension": ".py",
   "mimetype": "text/x-python",
   "name": "python",
   "nbconvert_exporter": "python",
   "pygments_lexer": "ipython3",
   "version": "3.8.3"
  }
 },
 "nbformat": 4,
 "nbformat_minor": 4
}
