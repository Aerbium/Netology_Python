{
 "cells": [
  {
   "cell_type": "markdown",
   "metadata": {},
   "source": [
    "## Python_Homework 2. Управляющие конструкции и коллекции"
   ]
  },
  {
   "cell_type": "markdown",
   "metadata": {},
   "source": [
    "### Задание № 1"
   ]
  },
  {
   "cell_type": "markdown",
   "metadata": {},
   "source": [
    "Дана переменная, в которой хранится слово из латинских букв. Напишите код, который выводит на экран:\n",
    "\n",
    "* среднюю букву, если число букв в слове нечетное;\n",
    "* две средних буквы, если число букв четное."
   ]
  },
  {
   "cell_type": "code",
   "execution_count": 9,
   "metadata": {},
   "outputs": [
    {
     "name": "stdout",
     "output_type": "stream",
     "text": [
      "Enter your word: trimu\n",
      "i\n"
     ]
    }
   ],
   "source": [
    "word = str(input('Enter your word: '))\n",
    "length = int(len(word))\n",
    "\n",
    "if length % 2 == 0:\n",
    "    print(word[(length // 2 - 1):(length // 2 + 1)])\n",
    "else:\n",
    "    print(word[((length - 1) // 2)])"
   ]
  },
  {
   "cell_type": "markdown",
   "metadata": {},
   "source": [
    "### Задание № 2"
   ]
  },
  {
   "cell_type": "markdown",
   "metadata": {},
   "source": [
    "Напишите программу, которая последовательно запрашивает у пользователя числа (по одному за раз) и после первого нуля выводит сумму всех ранее введенных чисел."
   ]
  },
  {
   "cell_type": "code",
   "execution_count": 13,
   "metadata": {},
   "outputs": [
    {
     "name": "stdout",
     "output_type": "stream",
     "text": [
      "Введите одно число: 15\n",
      "Введите еще одно число: 15.38\n",
      "Введите еще одно число: 0\n",
      "30.380000000000003\n"
     ]
    }
   ],
   "source": [
    "digit = float(input('Введите одно число: '))\n",
    "sum = 0\n",
    "\n",
    "while digit != 0:\n",
    "    sum += digit\n",
    "    digit = float(input('Введите еще одно число: '))\n",
    "print(sum)"
   ]
  },
  {
   "cell_type": "markdown",
   "metadata": {},
   "source": [
    "### Задание № 3"
   ]
  },
  {
   "cell_type": "markdown",
   "metadata": {},
   "source": [
    "Мы делаем MVP dating-сервиса, и у нас есть список парней и девушек.\n",
    "Выдвигаем гипотезу: лучшие рекомендации мы получим, если просто отсортируем имена по алфавиту и познакомим людей с одинаковыми индексами после сортировки! Но мы не будем никого знакомить, если кто-то может остаться без пары:"
   ]
  },
  {
   "cell_type": "code",
   "execution_count": 23,
   "metadata": {},
   "outputs": [
    {
     "name": "stdout",
     "output_type": "stream",
     "text": [
      "Введите имена парней через запятую без пробелов Alex,Dima,Gregory,Vlad,Leonid\n",
      "Введите имена девушек через запятую без пробелов Sasha,Dana,Zina,Varya,Lera\n",
      "Идеальные пары:\n",
      "Alex и Dana\n",
      "Dima и Lera\n",
      "Gregory и Sasha\n",
      "Leonid и Varya\n",
      "Vlad и Zina\n"
     ]
    }
   ],
   "source": [
    "boys = input('Введите имена парней через запятую без пробелов ').split(',')\n",
    "girls = input('Введите имена девушек через запятую без пробелов ').split(',')\n",
    "\n",
    "if len(boys) == len(girls):\n",
    "    res = list(zip(sorted(boys),sorted(girls)))\n",
    "    print(\"Идеальные пары:\")\n",
    "    for pair in res:\n",
    "        print(f\"{pair[0]} и {pair[1]}\")\n",
    "else:\n",
    "    print('Внимание, кто-то может остаться без пары!')"
   ]
  },
  {
   "cell_type": "markdown",
   "metadata": {},
   "source": [
    "### Задание № 4"
   ]
  },
  {
   "cell_type": "markdown",
   "metadata": {},
   "source": [
    "У нас есть список, содержащий информацию о среднедневной температуре в Фаренгейтах за произвольный период по странам (структура данных в примере). \n",
    "Необходимо написать код, который рассчитает среднюю температуру за период в Цельсиях(!) для каждой страны.\n",
    "\n",
    "Пример работы программы:\n",
    "\n",
    "| Country       | Temperature                                   | \n",
    "|:------------- | ---------------------------------------------:| \n",
    "| Thailand      | 75.2, 77, 78.8, 73.4, 68, 75.2, 77            |\n",
    "| Germany       | 57.2, 55.4, 59, 59, 53.6                      |\n",
    "| Russia        | 35.6, 37.4, 39.2, 41, 42.8, 39.2, 35.6        |\n",
    "| Poland        | 50, 50, 53.6, 57.2, 55.4, 55.4                |\n",
    "\n",
    "\n",
    "\n",
    "![RealData](https://puu.sh/GCl6j/0c0d44b81d.png)\n",
    "\n",
    "T(°C) = (T(°F) - 32) × 5/9\n",
    "\n",
    "Результат:\n",
    "\n",
    "Средняя температура в странах:\n",
    "Thailand  -  23.9 С\n",
    "Germany  -  13.8 С\n",
    "Russia  -  3.7 С\n",
    "Poland  -  12.0 С"
   ]
  },
  {
   "cell_type": "code",
   "execution_count": 9,
   "metadata": {},
   "outputs": [
    {
     "name": "stdout",
     "output_type": "stream",
     "text": [
      "Средняя температура в странах: \n",
      "Thailand - 23.9 C\n",
      "Germany - 13.8 C\n",
      "Russia - 3.7 C\n",
      "Poland - 12.0 C\n"
     ]
    }
   ],
   "source": [
    "def temp_C(temperature):\n",
    "    result = f'{(temperature - 32) * (5/9) :.1f} C'\n",
    "    return result\n",
    "\n",
    "countries_temperature = [\n",
    "['Thailand', [75.2, 77, 78.8, 73.4, 68, 75.2, 77]],\n",
    "['Germany', [57.2, 55.4, 59, 59, 53.6]],\n",
    "['Russia', [35.6, 37.4, 39.2, 41, 42.8, 39.2, 35.6]],\n",
    "['Poland', [50, 50, 53.6, 57.2, 55.4, 55.4]]\n",
    "]\n",
    "\n",
    "avg_temp = 0\n",
    "print('Средняя температура в странах: ')\n",
    "for row in countries_temperature:\n",
    "    avg_temp = sum(row[1]) / len(row[1])\n",
    "    print(f'{row[0]} - {temp_C(avg_temp)}')"
   ]
  },
  {
   "cell_type": "markdown",
   "metadata": {},
   "source": [
    "### Задание № 5"
   ]
  },
  {
   "cell_type": "code",
   "execution_count": null,
   "metadata": {},
   "outputs": [],
   "source": []
  }
 ],
 "metadata": {
  "kernelspec": {
   "display_name": "Python 3",
   "language": "python",
   "name": "python3"
  },
  "language_info": {
   "codemirror_mode": {
    "name": "ipython",
    "version": 3
   },
   "file_extension": ".py",
   "mimetype": "text/x-python",
   "name": "python",
   "nbconvert_exporter": "python",
   "pygments_lexer": "ipython3",
   "version": "3.8.3"
  }
 },
 "nbformat": 4,
 "nbformat_minor": 4
}
