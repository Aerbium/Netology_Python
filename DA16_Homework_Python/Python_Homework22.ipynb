{
 "cells": [
  {
   "cell_type": "markdown",
   "metadata": {},
   "source": [
    "## Домашнее задание № 22.  Case study"
   ]
  },
  {
   "cell_type": "markdown",
   "metadata": {},
   "source": [
    "### Задание 1\n",
    "\n",
    "Вернемся к набору данных о видеоиграх.\n",
    "\n",
    "Ответьте на следующие вопросы:\n",
    "\n",
    "1) Как критики относятся к спортивным играм?\n",
    "\n",
    "2) Критикам нравятся больше игры на PC или на PS4?\n",
    "\n",
    "3) Критикам больше нравятся стрелялки или стратегии?\n",
    "\n",
    "Для каждого вопроса:\n",
    "\n",
    "сформулируйте нулевую и альтернативную гипотезы;\n",
    "выберите пороговый уровень статистической значимости;\n",
    "опишите полученные результаты статистического теста."
   ]
  },
  {
   "cell_type": "code",
   "execution_count": 2,
   "metadata": {},
   "outputs": [],
   "source": [
    "# импорт необходимых библиотек\n",
    "# импортируем необходимые библиотеки\n",
    "import pandas as pd\n",
    "import seaborn as sns\n",
    "import matplotlib.pyplot as plt\n",
    "import numpy as np\n",
    "\n",
    "from pylab import rcParams\n",
    "rcParams['figure.figsize'] = 15,7\n"
   ]
  },
  {
   "cell_type": "code",
   "execution_count": 3,
   "metadata": {},
   "outputs": [
    {
     "data": {
      "text/html": [
       "<div>\n",
       "<style scoped>\n",
       "    .dataframe tbody tr th:only-of-type {\n",
       "        vertical-align: middle;\n",
       "    }\n",
       "\n",
       "    .dataframe tbody tr th {\n",
       "        vertical-align: top;\n",
       "    }\n",
       "\n",
       "    .dataframe thead th {\n",
       "        text-align: right;\n",
       "    }\n",
       "</style>\n",
       "<table border=\"1\" class=\"dataframe\">\n",
       "  <thead>\n",
       "    <tr style=\"text-align: right;\">\n",
       "      <th></th>\n",
       "      <th>Rank</th>\n",
       "      <th>Name</th>\n",
       "      <th>basename</th>\n",
       "      <th>Genre</th>\n",
       "      <th>ESRB_Rating</th>\n",
       "      <th>Platform</th>\n",
       "      <th>Publisher</th>\n",
       "      <th>Developer</th>\n",
       "      <th>VGChartz_Score</th>\n",
       "      <th>Critic_Score</th>\n",
       "      <th>...</th>\n",
       "      <th>NA_Sales</th>\n",
       "      <th>PAL_Sales</th>\n",
       "      <th>JP_Sales</th>\n",
       "      <th>Other_Sales</th>\n",
       "      <th>Year</th>\n",
       "      <th>Last_Update</th>\n",
       "      <th>url</th>\n",
       "      <th>status</th>\n",
       "      <th>Vgchartzscore</th>\n",
       "      <th>img_url</th>\n",
       "    </tr>\n",
       "  </thead>\n",
       "  <tbody>\n",
       "    <tr>\n",
       "      <th>0</th>\n",
       "      <td>1</td>\n",
       "      <td>Wii Sports</td>\n",
       "      <td>wii-sports</td>\n",
       "      <td>Sports</td>\n",
       "      <td>E</td>\n",
       "      <td>Wii</td>\n",
       "      <td>Nintendo</td>\n",
       "      <td>Nintendo EAD</td>\n",
       "      <td>NaN</td>\n",
       "      <td>7.7</td>\n",
       "      <td>...</td>\n",
       "      <td>NaN</td>\n",
       "      <td>NaN</td>\n",
       "      <td>NaN</td>\n",
       "      <td>NaN</td>\n",
       "      <td>2006.0</td>\n",
       "      <td>NaN</td>\n",
       "      <td>http://www.vgchartz.com/game/2667/wii-sports/?...</td>\n",
       "      <td>1</td>\n",
       "      <td>NaN</td>\n",
       "      <td>/games/boxart/full_2258645AmericaFrontccc.jpg</td>\n",
       "    </tr>\n",
       "    <tr>\n",
       "      <th>1</th>\n",
       "      <td>2</td>\n",
       "      <td>Super Mario Bros.</td>\n",
       "      <td>super-mario-bros</td>\n",
       "      <td>Platform</td>\n",
       "      <td>NaN</td>\n",
       "      <td>NES</td>\n",
       "      <td>Nintendo</td>\n",
       "      <td>Nintendo EAD</td>\n",
       "      <td>NaN</td>\n",
       "      <td>10.0</td>\n",
       "      <td>...</td>\n",
       "      <td>NaN</td>\n",
       "      <td>NaN</td>\n",
       "      <td>NaN</td>\n",
       "      <td>NaN</td>\n",
       "      <td>1985.0</td>\n",
       "      <td>NaN</td>\n",
       "      <td>http://www.vgchartz.com/game/6455/super-mario-...</td>\n",
       "      <td>1</td>\n",
       "      <td>NaN</td>\n",
       "      <td>/games/boxart/8972270ccc.jpg</td>\n",
       "    </tr>\n",
       "    <tr>\n",
       "      <th>2</th>\n",
       "      <td>3</td>\n",
       "      <td>Mario Kart Wii</td>\n",
       "      <td>mario-kart-wii</td>\n",
       "      <td>Racing</td>\n",
       "      <td>E</td>\n",
       "      <td>Wii</td>\n",
       "      <td>Nintendo</td>\n",
       "      <td>Nintendo EAD</td>\n",
       "      <td>NaN</td>\n",
       "      <td>8.2</td>\n",
       "      <td>...</td>\n",
       "      <td>NaN</td>\n",
       "      <td>NaN</td>\n",
       "      <td>NaN</td>\n",
       "      <td>NaN</td>\n",
       "      <td>2008.0</td>\n",
       "      <td>11th Apr 18</td>\n",
       "      <td>http://www.vgchartz.com/game/6968/mario-kart-w...</td>\n",
       "      <td>1</td>\n",
       "      <td>8.7</td>\n",
       "      <td>/games/boxart/full_8932480AmericaFrontccc.jpg</td>\n",
       "    </tr>\n",
       "    <tr>\n",
       "      <th>3</th>\n",
       "      <td>4</td>\n",
       "      <td>PlayerUnknown's Battlegrounds</td>\n",
       "      <td>playerunknowns-battlegrounds</td>\n",
       "      <td>Shooter</td>\n",
       "      <td>NaN</td>\n",
       "      <td>PC</td>\n",
       "      <td>PUBG Corporation</td>\n",
       "      <td>PUBG Corporation</td>\n",
       "      <td>NaN</td>\n",
       "      <td>NaN</td>\n",
       "      <td>...</td>\n",
       "      <td>NaN</td>\n",
       "      <td>NaN</td>\n",
       "      <td>NaN</td>\n",
       "      <td>NaN</td>\n",
       "      <td>2017.0</td>\n",
       "      <td>13th Nov 18</td>\n",
       "      <td>http://www.vgchartz.com/game/215988/playerunkn...</td>\n",
       "      <td>1</td>\n",
       "      <td>NaN</td>\n",
       "      <td>/games/boxart/full_8052843AmericaFrontccc.jpg</td>\n",
       "    </tr>\n",
       "    <tr>\n",
       "      <th>4</th>\n",
       "      <td>5</td>\n",
       "      <td>Wii Sports Resort</td>\n",
       "      <td>wii-sports-resort</td>\n",
       "      <td>Sports</td>\n",
       "      <td>E</td>\n",
       "      <td>Wii</td>\n",
       "      <td>Nintendo</td>\n",
       "      <td>Nintendo EAD</td>\n",
       "      <td>NaN</td>\n",
       "      <td>8.0</td>\n",
       "      <td>...</td>\n",
       "      <td>NaN</td>\n",
       "      <td>NaN</td>\n",
       "      <td>NaN</td>\n",
       "      <td>NaN</td>\n",
       "      <td>2009.0</td>\n",
       "      <td>NaN</td>\n",
       "      <td>http://www.vgchartz.com/game/24656/wii-sports-...</td>\n",
       "      <td>1</td>\n",
       "      <td>8.8</td>\n",
       "      <td>/games/boxart/full_7295041AmericaFrontccc.jpg</td>\n",
       "    </tr>\n",
       "  </tbody>\n",
       "</table>\n",
       "<p>5 rows × 23 columns</p>\n",
       "</div>"
      ],
      "text/plain": [
       "   Rank                           Name                      basename  \\\n",
       "0     1                     Wii Sports                    wii-sports   \n",
       "1     2              Super Mario Bros.              super-mario-bros   \n",
       "2     3                 Mario Kart Wii                mario-kart-wii   \n",
       "3     4  PlayerUnknown's Battlegrounds  playerunknowns-battlegrounds   \n",
       "4     5              Wii Sports Resort             wii-sports-resort   \n",
       "\n",
       "      Genre ESRB_Rating Platform         Publisher         Developer  \\\n",
       "0    Sports           E      Wii          Nintendo      Nintendo EAD   \n",
       "1  Platform         NaN      NES          Nintendo      Nintendo EAD   \n",
       "2    Racing           E      Wii          Nintendo      Nintendo EAD   \n",
       "3   Shooter         NaN       PC  PUBG Corporation  PUBG Corporation   \n",
       "4    Sports           E      Wii          Nintendo      Nintendo EAD   \n",
       "\n",
       "   VGChartz_Score  Critic_Score  ...  NA_Sales  PAL_Sales  JP_Sales  \\\n",
       "0             NaN           7.7  ...       NaN        NaN       NaN   \n",
       "1             NaN          10.0  ...       NaN        NaN       NaN   \n",
       "2             NaN           8.2  ...       NaN        NaN       NaN   \n",
       "3             NaN           NaN  ...       NaN        NaN       NaN   \n",
       "4             NaN           8.0  ...       NaN        NaN       NaN   \n",
       "\n",
       "   Other_Sales    Year  Last_Update  \\\n",
       "0          NaN  2006.0          NaN   \n",
       "1          NaN  1985.0          NaN   \n",
       "2          NaN  2008.0  11th Apr 18   \n",
       "3          NaN  2017.0  13th Nov 18   \n",
       "4          NaN  2009.0          NaN   \n",
       "\n",
       "                                                 url  status Vgchartzscore  \\\n",
       "0  http://www.vgchartz.com/game/2667/wii-sports/?...       1           NaN   \n",
       "1  http://www.vgchartz.com/game/6455/super-mario-...       1           NaN   \n",
       "2  http://www.vgchartz.com/game/6968/mario-kart-w...       1           8.7   \n",
       "3  http://www.vgchartz.com/game/215988/playerunkn...       1           NaN   \n",
       "4  http://www.vgchartz.com/game/24656/wii-sports-...       1           8.8   \n",
       "\n",
       "                                         img_url  \n",
       "0  /games/boxart/full_2258645AmericaFrontccc.jpg  \n",
       "1                   /games/boxart/8972270ccc.jpg  \n",
       "2  /games/boxart/full_8932480AmericaFrontccc.jpg  \n",
       "3  /games/boxart/full_8052843AmericaFrontccc.jpg  \n",
       "4  /games/boxart/full_7295041AmericaFrontccc.jpg  \n",
       "\n",
       "[5 rows x 23 columns]"
      ]
     },
     "execution_count": 3,
     "metadata": {},
     "output_type": "execute_result"
    }
   ],
   "source": [
    "df = pd.read_csv('DATA/video_games_sales.csv')\n",
    "df.head()"
   ]
  },
  {
   "cell_type": "markdown",
   "metadata": {},
   "source": [
    "### 1. Как критики относятся к спортивным играм?\n",
    "\n",
    "H0 - критики в среднем оценивают спортивные игры выше 7.5\n",
    "\n",
    "H1 - критики в среднем оценивают спортивные игры ниже значения 7.5\n",
    "\n",
    "Критерий значимости примем на уровне 5%"
   ]
  },
  {
   "cell_type": "code",
   "execution_count": 4,
   "metadata": {},
   "outputs": [
    {
     "name": "stdout",
     "output_type": "stream",
     "text": [
      "Ttest_1sampResult(statistic=-3.719660933773832, pvalue=0.00021577789041608633)\n",
      "Отвергаем нулевую гипотезу, средняя оценка ниже 7.5\n"
     ]
    }
   ],
   "source": [
    "from scipy import stats as st\n",
    "\n",
    "alpha = 0.05\n",
    "df1 = df[['Genre','Critic_Score']].copy().dropna()\n",
    "df1 = df1[df1.Genre.eq('Sports')]\n",
    "\n",
    "result = st.ttest_1samp(df1['Critic_Score'], 7.5)\n",
    "print(result)\n",
    "\n",
    "if (result.statistic < 0) & (result.pvalue / 2 < alpha):\n",
    "    print('Отвергаем нулевую гипотезу, средняя оценка ниже 7.5')\n",
    "else:\n",
    "    print('Не отвергаем нулевую нулевую гипотезу, критики высоко оценивают спортивные симмуляторы')"
   ]
  },
  {
   "cell_type": "code",
   "execution_count": 5,
   "metadata": {},
   "outputs": [
    {
     "data": {
      "text/plain": [
       "Critic_Score    7.291424\n",
       "dtype: float64"
      ]
     },
     "execution_count": 5,
     "metadata": {},
     "output_type": "execute_result"
    }
   ],
   "source": [
    "df1[df1.Genre.eq('Sports')].mean()"
   ]
  },
  {
   "cell_type": "markdown",
   "metadata": {},
   "source": [
    "### 2. Критикам нравятся больше игры на PC или на PS4?\n",
    "\n",
    "H0 - критикам нравятся игры одинаково на обеих платформах\n",
    "\n",
    "H1 - есть значимые отличия в оценках критиков\n",
    "\n",
    "Критерий значимости примем на уровне 5%"
   ]
  },
  {
   "cell_type": "code",
   "execution_count": 6,
   "metadata": {},
   "outputs": [],
   "source": [
    "df2 = df[['Platform','Critic_Score']].copy().dropna()"
   ]
  },
  {
   "cell_type": "code",
   "execution_count": 7,
   "metadata": {},
   "outputs": [],
   "source": [
    "# разбиваем датасет на 2 выборки по платформе\n",
    "df_pc = df2.loc[df2.Platform == 'PC'].copy()\n",
    "df_ps4 = df2.loc[df2.Platform == 'PS4'].copy()"
   ]
  },
  {
   "cell_type": "code",
   "execution_count": 8,
   "metadata": {},
   "outputs": [
    {
     "name": "stdout",
     "output_type": "stream",
     "text": [
      "Ttest_indResult(statistic=-2.7394476056351627, pvalue=0.006931808250254211)\n",
      "Отвергаем нулевую гипотезу, критики по-разному оценивают игры на платформах\n"
     ]
    }
   ],
   "source": [
    "# используем 2-сторонний T-test с критерием Уэлча\n",
    "result = st.ttest_ind(df_pc['Critic_Score'], df_ps4['Critic_Score'], equal_var=False)\n",
    "print(result)\n",
    "if (result.pvalue < alpha):\n",
    "    print('Отвергаем нулевую гипотезу, критики по-разному оценивают игры на платформах')\n",
    "else:\n",
    "    print('Не отвергаем нулевую гипотезу')"
   ]
  },
  {
   "cell_type": "code",
   "execution_count": 9,
   "metadata": {},
   "outputs": [
    {
     "data": {
      "image/png": "[encoded data removed]",
      "text/plain": [
       "<Figure size 1080x504 with 1 Axes>"
      ]
     },
     "metadata": {
      "needs_background": "light"
     },
     "output_type": "display_data"
    }
   ],
   "source": [
    "# Продемонстрируем различия визуально\n",
    "import seaborn as sns\n",
    "df2 = df2.loc[df2.Platform.isin(['PC','PS4'])]\n",
    "ax = sns.boxplot(x=df2['Critic_Score'],y=df2['Platform'], data=df2, orient = 'h', palette=\"Set2\")"
   ]
  },
  {
   "cell_type": "markdown",
   "metadata": {},
   "source": [
    " ## Различия есть, игры на PS4 в среднем оценивают выше. Об этом свидетельствует результат T-теста, а также знак его статистики"
   ]
  },
  {
   "cell_type": "markdown",
   "metadata": {},
   "source": [
    "### 3. Критикам больше нравятся стрелялки или стратегии?\n",
    "\n",
    "H0 - критикам нравятся игры одинаково\n",
    "\n",
    "H1 - есть значимые отличия в оценках критиков\n",
    "\n",
    "Критерий значимости примем на уровне 5%"
   ]
  },
  {
   "cell_type": "code",
   "execution_count": 10,
   "metadata": {},
   "outputs": [],
   "source": [
    "df3 = df[['Genre','Critic_Score']].copy().dropna()"
   ]
  },
  {
   "cell_type": "code",
   "execution_count": 11,
   "metadata": {},
   "outputs": [],
   "source": [
    "# разбиваем датасет на 2 выборки по жанру\n",
    "df_shoot = df3.loc[df3.Genre == 'Shooter'].copy()\n",
    "df_strat = df3.loc[df3.Genre == 'Strategy'].copy()"
   ]
  },
  {
   "cell_type": "code",
   "execution_count": 12,
   "metadata": {},
   "outputs": [
    {
     "name": "stdout",
     "output_type": "stream",
     "text": [
      "Ttest_indResult(statistic=-1.6073949711166526, pvalue=0.10838786414223071)\n",
      "Не отвергаем нулевую гипотезу\n"
     ]
    }
   ],
   "source": [
    "# используем 2-сторонний T-test с критерием Уэлча\n",
    "result = st.ttest_ind(df_shoot['Critic_Score'], df_strat['Critic_Score'], equal_var=False)\n",
    "print(result)\n",
    "if (result.pvalue < alpha):\n",
    "    print('Отвергаем нулевую гипотезу, критики по-разному оценивают жанры')\n",
    "else:\n",
    "    print('Не отвергаем нулевую гипотезу')"
   ]
  },
  {
   "cell_type": "code",
   "execution_count": 13,
   "metadata": {},
   "outputs": [
    {
     "data": {
      "image/png": "[encoded data removed]",
      "text/plain": [
       "<Figure size 1080x504 with 1 Axes>"
      ]
     },
     "metadata": {
      "needs_background": "light"
     },
     "output_type": "display_data"
    }
   ],
   "source": [
    "# Продемонстрируем различия визуально\n",
    "df3 = df3.loc[df3.Genre.isin(['Shooter','Strategy'])]\n",
    "ax = sns.boxplot(x=df3['Critic_Score'],y=df3['Genre'], data=df3, orient = 'h', palette=\"Set3\")"
   ]
  },
  {
   "cell_type": "markdown",
   "metadata": {},
   "source": [
    "## В этом случае мы не получаем достаточной уверенности в праве отклонения гипотезы о равенстве оценок двух жанров. Тем не менее в среднем жанр Shooters оценивают немного ниже чем Strategies."
   ]
  },
  {
   "cell_type": "markdown",
   "metadata": {},
   "source": [
    "### Задание 2\n",
    "\n",
    "Реализуйте базовую модель логистической регрессии для классификации текстовых сообщений (используемые данные здесь) по признаку спама. Для этого:\n",
    "\n",
    "1) Привидите весь текст к нижнему регистру;\n",
    "\n",
    "2) Удалите мусорные символы;\n",
    "\n",
    "3) Удалите стоп-слова;\n",
    "\n",
    "4) Привидите все слова к нормальной форме\n",
    "\n",
    "5) Преобразуйте все сообщения в вектора TF-IDF. Вам поможет следующий код:\n",
    "\n",
    "```python\n",
    "from sklearn.feature_extraction.text import TfidfVectorizer\n",
    "\n",
    "tfidf = TfidfVectorizer()\n",
    "tfidf_matrix = tfidf.fit_transform(df.Message)\n",
    "names = tfidf.get_feature_names()\n",
    "tfidf_matrix = pd.DataFrame(tfidf_matrix.toarray(), columns=names)\n",
    "Можете поэкспериментировать с параметрами TfidfVectorizer;\n",
    "```\n",
    "6) Разделите данные на тестовые и тренировочные в соотношении 30/70, укажите random_state=42. Используйте train_test_split;\n",
    "\n",
    "7) Постройте модель логистической регрессии, укажите random_state=42, оцените ее точность на тестовых данных;\n",
    "\n",
    "8) Опишите результаты при помощи confusion_matrix;\n",
    "\n",
    "9) Постройте датафрейм, который будет содержать все исходные тексты сообщений, классифицированные неправильно (с указанием фактического и предсказанного)."
   ]
  },
  {
   "cell_type": "code",
   "execution_count": 120,
   "metadata": {},
   "outputs": [
    {
     "data": {
      "text/html": [
       "<div>\n",
       "<style scoped>\n",
       "    .dataframe tbody tr th:only-of-type {\n",
       "        vertical-align: middle;\n",
       "    }\n",
       "\n",
       "    .dataframe tbody tr th {\n",
       "        vertical-align: top;\n",
       "    }\n",
       "\n",
       "    .dataframe thead th {\n",
       "        text-align: right;\n",
       "    }\n",
       "</style>\n",
       "<table border=\"1\" class=\"dataframe\">\n",
       "  <thead>\n",
       "    <tr style=\"text-align: right;\">\n",
       "      <th></th>\n",
       "      <th>Category</th>\n",
       "      <th>Message</th>\n",
       "    </tr>\n",
       "  </thead>\n",
       "  <tbody>\n",
       "    <tr>\n",
       "      <th>0</th>\n",
       "      <td>ham</td>\n",
       "      <td>Go until jurong point, crazy.. Available only ...</td>\n",
       "    </tr>\n",
       "    <tr>\n",
       "      <th>1</th>\n",
       "      <td>ham</td>\n",
       "      <td>Ok lar... Joking wif u oni...</td>\n",
       "    </tr>\n",
       "    <tr>\n",
       "      <th>2</th>\n",
       "      <td>spam</td>\n",
       "      <td>Free entry in 2 a wkly comp to win FA Cup fina...</td>\n",
       "    </tr>\n",
       "    <tr>\n",
       "      <th>3</th>\n",
       "      <td>ham</td>\n",
       "      <td>U dun say so early hor... U c already then say...</td>\n",
       "    </tr>\n",
       "    <tr>\n",
       "      <th>4</th>\n",
       "      <td>ham</td>\n",
       "      <td>Nah I don't think he goes to usf, he lives aro...</td>\n",
       "    </tr>\n",
       "  </tbody>\n",
       "</table>\n",
       "</div>"
      ],
      "text/plain": [
       "  Category                                            Message\n",
       "0      ham  Go until jurong point, crazy.. Available only ...\n",
       "1      ham                      Ok lar... Joking wif u oni...\n",
       "2     spam  Free entry in 2 a wkly comp to win FA Cup fina...\n",
       "3      ham  U dun say so early hor... U c already then say...\n",
       "4      ham  Nah I don't think he goes to usf, he lives aro..."
      ]
     },
     "execution_count": 120,
     "metadata": {},
     "output_type": "execute_result"
    }
   ],
   "source": [
    "dff = pd.read_csv('DATA/spam.csv')\n",
    "dff.head()"
   ]
  },
  {
   "cell_type": "code",
   "execution_count": 121,
   "metadata": {},
   "outputs": [
    {
     "data": {
      "text/html": [
       "<div>\n",
       "<style scoped>\n",
       "    .dataframe tbody tr th:only-of-type {\n",
       "        vertical-align: middle;\n",
       "    }\n",
       "\n",
       "    .dataframe tbody tr th {\n",
       "        vertical-align: top;\n",
       "    }\n",
       "\n",
       "    .dataframe thead th {\n",
       "        text-align: right;\n",
       "    }\n",
       "</style>\n",
       "<table border=\"1\" class=\"dataframe\">\n",
       "  <thead>\n",
       "    <tr style=\"text-align: right;\">\n",
       "      <th></th>\n",
       "      <th>Category</th>\n",
       "      <th>Message</th>\n",
       "    </tr>\n",
       "  </thead>\n",
       "  <tbody>\n",
       "    <tr>\n",
       "      <th>0</th>\n",
       "      <td>ham</td>\n",
       "      <td>go until jurong point, crazy.. available only ...</td>\n",
       "    </tr>\n",
       "    <tr>\n",
       "      <th>1</th>\n",
       "      <td>ham</td>\n",
       "      <td>ok lar... joking wif u oni...</td>\n",
       "    </tr>\n",
       "    <tr>\n",
       "      <th>2</th>\n",
       "      <td>spam</td>\n",
       "      <td>free entry in 2 a wkly comp to win fa cup fina...</td>\n",
       "    </tr>\n",
       "    <tr>\n",
       "      <th>3</th>\n",
       "      <td>ham</td>\n",
       "      <td>u dun say so early hor... u c already then say...</td>\n",
       "    </tr>\n",
       "    <tr>\n",
       "      <th>4</th>\n",
       "      <td>ham</td>\n",
       "      <td>nah i don't think he goes to usf, he lives aro...</td>\n",
       "    </tr>\n",
       "  </tbody>\n",
       "</table>\n",
       "</div>"
      ],
      "text/plain": [
       "  Category                                            Message\n",
       "0      ham  go until jurong point, crazy.. available only ...\n",
       "1      ham                      ok lar... joking wif u oni...\n",
       "2     spam  free entry in 2 a wkly comp to win fa cup fina...\n",
       "3      ham  u dun say so early hor... u c already then say...\n",
       "4      ham  nah i don't think he goes to usf, he lives aro..."
      ]
     },
     "execution_count": 121,
     "metadata": {},
     "output_type": "execute_result"
    }
   ],
   "source": [
    "# Приводим к нижнему регистру\n",
    "dff['Message'] = dff['Message'].str.lower()\n",
    "dff.head()"
   ]
  },
  {
   "cell_type": "code",
   "execution_count": 122,
   "metadata": {},
   "outputs": [],
   "source": [
    "# оставляем только слова. Пишем функцию для датафрейма\n",
    "import re\n",
    "def words_getter(row):\n",
    "    \"\"\"оставляет в строке только слова без символов\"\"\"\n",
    "    res = re.findall(r'\\b\\w+\\b', row)\n",
    "    row = \" \".join(word for word in res)\n",
    "    return row"
   ]
  },
  {
   "cell_type": "code",
   "execution_count": 123,
   "metadata": {},
   "outputs": [
    {
     "data": {
      "text/html": [
       "<div>\n",
       "<style scoped>\n",
       "    .dataframe tbody tr th:only-of-type {\n",
       "        vertical-align: middle;\n",
       "    }\n",
       "\n",
       "    .dataframe tbody tr th {\n",
       "        vertical-align: top;\n",
       "    }\n",
       "\n",
       "    .dataframe thead th {\n",
       "        text-align: right;\n",
       "    }\n",
       "</style>\n",
       "<table border=\"1\" class=\"dataframe\">\n",
       "  <thead>\n",
       "    <tr style=\"text-align: right;\">\n",
       "      <th></th>\n",
       "      <th>Category</th>\n",
       "      <th>Message</th>\n",
       "    </tr>\n",
       "  </thead>\n",
       "  <tbody>\n",
       "    <tr>\n",
       "      <th>0</th>\n",
       "      <td>ham</td>\n",
       "      <td>go until jurong point crazy available only in ...</td>\n",
       "    </tr>\n",
       "    <tr>\n",
       "      <th>1</th>\n",
       "      <td>ham</td>\n",
       "      <td>ok lar joking wif u oni</td>\n",
       "    </tr>\n",
       "    <tr>\n",
       "      <th>2</th>\n",
       "      <td>spam</td>\n",
       "      <td>free entry in 2 a wkly comp to win fa cup fina...</td>\n",
       "    </tr>\n",
       "    <tr>\n",
       "      <th>3</th>\n",
       "      <td>ham</td>\n",
       "      <td>u dun say so early hor u c already then say</td>\n",
       "    </tr>\n",
       "    <tr>\n",
       "      <th>4</th>\n",
       "      <td>ham</td>\n",
       "      <td>nah i don t think he goes to usf he lives arou...</td>\n",
       "    </tr>\n",
       "  </tbody>\n",
       "</table>\n",
       "</div>"
      ],
      "text/plain": [
       "  Category                                            Message\n",
       "0      ham  go until jurong point crazy available only in ...\n",
       "1      ham                            ok lar joking wif u oni\n",
       "2     spam  free entry in 2 a wkly comp to win fa cup fina...\n",
       "3      ham        u dun say so early hor u c already then say\n",
       "4      ham  nah i don t think he goes to usf he lives arou..."
      ]
     },
     "execution_count": 123,
     "metadata": {},
     "output_type": "execute_result"
    }
   ],
   "source": [
    "dff['Message'] = dff['Message'].apply(words_getter)\n",
    "dff.head()"
   ]
  },
  {
   "cell_type": "code",
   "execution_count": 124,
   "metadata": {},
   "outputs": [
    {
     "name": "stderr",
     "output_type": "stream",
     "text": [
      "[nltk_data] Downloading package stopwords to\n",
      "[nltk_data]     C:\\Users\\aerbi\\AppData\\Roaming\\nltk_data...\n",
      "[nltk_data]   Package stopwords is already up-to-date!\n"
     ]
    },
    {
     "data": {
      "text/plain": [
       "True"
      ]
     },
     "execution_count": 124,
     "metadata": {},
     "output_type": "execute_result"
    }
   ],
   "source": [
    "import nltk\n",
    "nltk.download('stopwords')"
   ]
  },
  {
   "cell_type": "code",
   "execution_count": 125,
   "metadata": {},
   "outputs": [],
   "source": [
    "# загружаем функционал со стоп словами английского языка\n",
    "from nltk.corpus import stopwords\n",
    "stopwords_set = set(stopwords.words('english'))"
   ]
  },
  {
   "cell_type": "code",
   "execution_count": 126,
   "metadata": {},
   "outputs": [],
   "source": [
    "def stop_words_remover(row):\n",
    "    \"\"\"оставляет в строке только слова не входящие в список стоп-слов\"\"\"\n",
    "    res = \" \".join(s for s in [word for word in row.split() if word not in stopwords_set])\n",
    "    return res"
   ]
  },
  {
   "cell_type": "code",
   "execution_count": 127,
   "metadata": {},
   "outputs": [
    {
     "data": {
      "text/html": [
       "<div>\n",
       "<style scoped>\n",
       "    .dataframe tbody tr th:only-of-type {\n",
       "        vertical-align: middle;\n",
       "    }\n",
       "\n",
       "    .dataframe tbody tr th {\n",
       "        vertical-align: top;\n",
       "    }\n",
       "\n",
       "    .dataframe thead th {\n",
       "        text-align: right;\n",
       "    }\n",
       "</style>\n",
       "<table border=\"1\" class=\"dataframe\">\n",
       "  <thead>\n",
       "    <tr style=\"text-align: right;\">\n",
       "      <th></th>\n",
       "      <th>Category</th>\n",
       "      <th>Message</th>\n",
       "    </tr>\n",
       "  </thead>\n",
       "  <tbody>\n",
       "    <tr>\n",
       "      <th>0</th>\n",
       "      <td>ham</td>\n",
       "      <td>go jurong point crazy available bugis n great ...</td>\n",
       "    </tr>\n",
       "    <tr>\n",
       "      <th>1</th>\n",
       "      <td>ham</td>\n",
       "      <td>ok lar joking wif u oni</td>\n",
       "    </tr>\n",
       "    <tr>\n",
       "      <th>2</th>\n",
       "      <td>spam</td>\n",
       "      <td>free entry 2 wkly comp win fa cup final tkts 2...</td>\n",
       "    </tr>\n",
       "    <tr>\n",
       "      <th>3</th>\n",
       "      <td>ham</td>\n",
       "      <td>u dun say early hor u c already say</td>\n",
       "    </tr>\n",
       "    <tr>\n",
       "      <th>4</th>\n",
       "      <td>ham</td>\n",
       "      <td>nah think goes usf lives around though</td>\n",
       "    </tr>\n",
       "  </tbody>\n",
       "</table>\n",
       "</div>"
      ],
      "text/plain": [
       "  Category                                            Message\n",
       "0      ham  go jurong point crazy available bugis n great ...\n",
       "1      ham                            ok lar joking wif u oni\n",
       "2     spam  free entry 2 wkly comp win fa cup final tkts 2...\n",
       "3      ham                u dun say early hor u c already say\n",
       "4      ham             nah think goes usf lives around though"
      ]
     },
     "execution_count": 127,
     "metadata": {},
     "output_type": "execute_result"
    }
   ],
   "source": [
    "dff['Message'] = dff['Message'].apply(stop_words_remover)\n",
    "dff.head()"
   ]
  },
  {
   "cell_type": "code",
   "execution_count": 128,
   "metadata": {},
   "outputs": [
    {
     "name": "stderr",
     "output_type": "stream",
     "text": [
      "[nltk_data] Downloading package wordnet to\n",
      "[nltk_data]     C:\\Users\\aerbi\\AppData\\Roaming\\nltk_data...\n",
      "[nltk_data]   Package wordnet is already up-to-date!\n"
     ]
    },
    {
     "data": {
      "text/plain": [
       "True"
      ]
     },
     "execution_count": 128,
     "metadata": {},
     "output_type": "execute_result"
    }
   ],
   "source": [
    "nltk.download('wordnet')"
   ]
  },
  {
   "cell_type": "code",
   "execution_count": 129,
   "metadata": {},
   "outputs": [],
   "source": [
    "# проведем лемматизацию слов в сообщениях\n",
    "from nltk.stem import WordNetLemmatizer\n",
    "wordnet_lemmatizer = WordNetLemmatizer()"
   ]
  },
  {
   "cell_type": "code",
   "execution_count": 130,
   "metadata": {},
   "outputs": [],
   "source": [
    "def lemmawords(row):\n",
    "    \"\"\"оставляет в строке только слова не входящие в список стоп-слов\"\"\"\n",
    "    res = \" \".join(s for s in [wordnet_lemmatizer.lemmatize(word) for word in row.split()])\n",
    "    return res"
   ]
  },
  {
   "cell_type": "code",
   "execution_count": 131,
   "metadata": {},
   "outputs": [
    {
     "data": {
      "text/html": [
       "<div>\n",
       "<style scoped>\n",
       "    .dataframe tbody tr th:only-of-type {\n",
       "        vertical-align: middle;\n",
       "    }\n",
       "\n",
       "    .dataframe tbody tr th {\n",
       "        vertical-align: top;\n",
       "    }\n",
       "\n",
       "    .dataframe thead th {\n",
       "        text-align: right;\n",
       "    }\n",
       "</style>\n",
       "<table border=\"1\" class=\"dataframe\">\n",
       "  <thead>\n",
       "    <tr style=\"text-align: right;\">\n",
       "      <th></th>\n",
       "      <th>Category</th>\n",
       "      <th>Message</th>\n",
       "    </tr>\n",
       "  </thead>\n",
       "  <tbody>\n",
       "    <tr>\n",
       "      <th>0</th>\n",
       "      <td>ham</td>\n",
       "      <td>go jurong point crazy available bugis n great ...</td>\n",
       "    </tr>\n",
       "    <tr>\n",
       "      <th>1</th>\n",
       "      <td>ham</td>\n",
       "      <td>ok lar joking wif u oni</td>\n",
       "    </tr>\n",
       "    <tr>\n",
       "      <th>2</th>\n",
       "      <td>spam</td>\n",
       "      <td>free entry 2 wkly comp win fa cup final tkts 2...</td>\n",
       "    </tr>\n",
       "    <tr>\n",
       "      <th>3</th>\n",
       "      <td>ham</td>\n",
       "      <td>u dun say early hor u c already say</td>\n",
       "    </tr>\n",
       "    <tr>\n",
       "      <th>4</th>\n",
       "      <td>ham</td>\n",
       "      <td>nah think go usf life around though</td>\n",
       "    </tr>\n",
       "  </tbody>\n",
       "</table>\n",
       "</div>"
      ],
      "text/plain": [
       "  Category                                            Message\n",
       "0      ham  go jurong point crazy available bugis n great ...\n",
       "1      ham                            ok lar joking wif u oni\n",
       "2     spam  free entry 2 wkly comp win fa cup final tkts 2...\n",
       "3      ham                u dun say early hor u c already say\n",
       "4      ham                nah think go usf life around though"
      ]
     },
     "execution_count": 131,
     "metadata": {},
     "output_type": "execute_result"
    }
   ],
   "source": [
    "dff['Message'] = dff['Message'].apply(lemmawords)\n",
    "dff.head()"
   ]
  },
  {
   "cell_type": "code",
   "execution_count": 132,
   "metadata": {},
   "outputs": [
    {
     "data": {
      "text/html": [
       "<div>\n",
       "<style scoped>\n",
       "    .dataframe tbody tr th:only-of-type {\n",
       "        vertical-align: middle;\n",
       "    }\n",
       "\n",
       "    .dataframe tbody tr th {\n",
       "        vertical-align: top;\n",
       "    }\n",
       "\n",
       "    .dataframe thead th {\n",
       "        text-align: right;\n",
       "    }\n",
       "</style>\n",
       "<table border=\"1\" class=\"dataframe\">\n",
       "  <thead>\n",
       "    <tr style=\"text-align: right;\">\n",
       "      <th></th>\n",
       "      <th>Category</th>\n",
       "      <th>Message</th>\n",
       "    </tr>\n",
       "  </thead>\n",
       "  <tbody>\n",
       "    <tr>\n",
       "      <th>0</th>\n",
       "      <td>0</td>\n",
       "      <td>go jurong point crazy available bugis n great ...</td>\n",
       "    </tr>\n",
       "    <tr>\n",
       "      <th>1</th>\n",
       "      <td>0</td>\n",
       "      <td>ok lar joking wif u oni</td>\n",
       "    </tr>\n",
       "    <tr>\n",
       "      <th>2</th>\n",
       "      <td>1</td>\n",
       "      <td>free entry 2 wkly comp win fa cup final tkts 2...</td>\n",
       "    </tr>\n",
       "    <tr>\n",
       "      <th>3</th>\n",
       "      <td>0</td>\n",
       "      <td>u dun say early hor u c already say</td>\n",
       "    </tr>\n",
       "    <tr>\n",
       "      <th>4</th>\n",
       "      <td>0</td>\n",
       "      <td>nah think go usf life around though</td>\n",
       "    </tr>\n",
       "    <tr>\n",
       "      <th>...</th>\n",
       "      <td>...</td>\n",
       "      <td>...</td>\n",
       "    </tr>\n",
       "    <tr>\n",
       "      <th>5567</th>\n",
       "      <td>1</td>\n",
       "      <td>2nd time tried 2 contact u u 750 pound prize 2...</td>\n",
       "    </tr>\n",
       "    <tr>\n",
       "      <th>5568</th>\n",
       "      <td>0</td>\n",
       "      <td>ü b going esplanade fr home</td>\n",
       "    </tr>\n",
       "    <tr>\n",
       "      <th>5569</th>\n",
       "      <td>0</td>\n",
       "      <td>pity mood suggestion</td>\n",
       "    </tr>\n",
       "    <tr>\n",
       "      <th>5570</th>\n",
       "      <td>0</td>\n",
       "      <td>guy bitching acted like interested buying some...</td>\n",
       "    </tr>\n",
       "    <tr>\n",
       "      <th>5571</th>\n",
       "      <td>0</td>\n",
       "      <td>rofl true name</td>\n",
       "    </tr>\n",
       "  </tbody>\n",
       "</table>\n",
       "<p>5572 rows × 2 columns</p>\n",
       "</div>"
      ],
      "text/plain": [
       "      Category                                            Message\n",
       "0            0  go jurong point crazy available bugis n great ...\n",
       "1            0                            ok lar joking wif u oni\n",
       "2            1  free entry 2 wkly comp win fa cup final tkts 2...\n",
       "3            0                u dun say early hor u c already say\n",
       "4            0                nah think go usf life around though\n",
       "...        ...                                                ...\n",
       "5567         1  2nd time tried 2 contact u u 750 pound prize 2...\n",
       "5568         0                        ü b going esplanade fr home\n",
       "5569         0                               pity mood suggestion\n",
       "5570         0  guy bitching acted like interested buying some...\n",
       "5571         0                                     rofl true name\n",
       "\n",
       "[5572 rows x 2 columns]"
      ]
     },
     "execution_count": 132,
     "metadata": {},
     "output_type": "execute_result"
    }
   ],
   "source": [
    "dff['Category'] = dff['Category'].map({'spam': 1, 'ham': 0})\n",
    "dff"
   ]
  },
  {
   "cell_type": "code",
   "execution_count": 133,
   "metadata": {},
   "outputs": [],
   "source": [
    "# преобразуем слова в вектора с помощью TFIDF\n",
    "from sklearn.feature_extraction.text import TfidfVectorizer\n",
    "\n",
    "tfidf = TfidfVectorizer()\n",
    "tfidf_matrix = tfidf.fit_transform(dff.Message)\n",
    "names = tfidf.get_feature_names()\n",
    "tfidf_matrix = pd.DataFrame(tfidf_matrix.toarray(), columns=names)"
   ]
  },
  {
   "cell_type": "code",
   "execution_count": 137,
   "metadata": {},
   "outputs": [],
   "source": [
    "result = dff['Category'].to_list()"
   ]
  },
  {
   "cell_type": "code",
   "execution_count": 138,
   "metadata": {},
   "outputs": [],
   "source": [
    "# разделяем выборку на тренировочную и тестовую\n",
    "from sklearn.model_selection import train_test_split\n",
    "x_train, x_test, y_train, y_test = train_test_split(tfidf_matrix, result, test_size=0.3, random_state=42)"
   ]
  },
  {
   "cell_type": "code",
   "execution_count": 139,
   "metadata": {},
   "outputs": [],
   "source": [
    "# создаем модель логистической регрессии\n",
    "from sklearn.linear_model import LogisticRegression\n",
    "lr = LogisticRegression(random_state=42)"
   ]
  },
  {
   "cell_type": "code",
   "execution_count": 140,
   "metadata": {},
   "outputs": [
    {
     "data": {
      "text/plain": [
       "LogisticRegression(random_state=42)"
      ]
     },
     "execution_count": 140,
     "metadata": {},
     "output_type": "execute_result"
    }
   ],
   "source": [
    "# обучаем данные\n",
    "lr.fit(x_train, y_train)"
   ]
  },
  {
   "cell_type": "code",
   "execution_count": 141,
   "metadata": {},
   "outputs": [
    {
     "data": {
      "text/plain": [
       "0.958732057416268"
      ]
     },
     "execution_count": 141,
     "metadata": {},
     "output_type": "execute_result"
    }
   ],
   "source": [
    "# оценим результат метрикой score\n",
    "lr.score(x_test, y_test)"
   ]
  },
  {
   "cell_type": "code",
   "execution_count": 143,
   "metadata": {},
   "outputs": [
    {
     "data": {
      "text/plain": [
       "array([[1445,    3],\n",
       "       [  66,  158]], dtype=int64)"
      ]
     },
     "execution_count": 143,
     "metadata": {},
     "output_type": "execute_result"
    }
   ],
   "source": [
    "# оценим результат с помощью confusion matrix\n",
    "from sklearn.metrics import confusion_matrix\n",
    "confusion_matrix(y_test, lr.predict(x_test))"
   ]
  },
  {
   "cell_type": "code",
   "execution_count": 144,
   "metadata": {},
   "outputs": [
    {
     "data": {
      "text/html": [
       "<div>\n",
       "<style scoped>\n",
       "    .dataframe tbody tr th:only-of-type {\n",
       "        vertical-align: middle;\n",
       "    }\n",
       "\n",
       "    .dataframe tbody tr th {\n",
       "        vertical-align: top;\n",
       "    }\n",
       "\n",
       "    .dataframe thead th {\n",
       "        text-align: right;\n",
       "    }\n",
       "</style>\n",
       "<table border=\"1\" class=\"dataframe\">\n",
       "  <thead>\n",
       "    <tr style=\"text-align: right;\">\n",
       "      <th></th>\n",
       "      <th>y_test</th>\n",
       "      <th>y_predict</th>\n",
       "    </tr>\n",
       "  </thead>\n",
       "  <tbody>\n",
       "    <tr>\n",
       "      <th>17</th>\n",
       "      <td>0</td>\n",
       "      <td>1</td>\n",
       "    </tr>\n",
       "    <tr>\n",
       "      <th>40</th>\n",
       "      <td>1</td>\n",
       "      <td>0</td>\n",
       "    </tr>\n",
       "    <tr>\n",
       "      <th>47</th>\n",
       "      <td>1</td>\n",
       "      <td>0</td>\n",
       "    </tr>\n",
       "    <tr>\n",
       "      <th>74</th>\n",
       "      <td>1</td>\n",
       "      <td>0</td>\n",
       "    </tr>\n",
       "    <tr>\n",
       "      <th>84</th>\n",
       "      <td>1</td>\n",
       "      <td>0</td>\n",
       "    </tr>\n",
       "    <tr>\n",
       "      <th>...</th>\n",
       "      <td>...</td>\n",
       "      <td>...</td>\n",
       "    </tr>\n",
       "    <tr>\n",
       "      <th>1525</th>\n",
       "      <td>1</td>\n",
       "      <td>0</td>\n",
       "    </tr>\n",
       "    <tr>\n",
       "      <th>1567</th>\n",
       "      <td>1</td>\n",
       "      <td>0</td>\n",
       "    </tr>\n",
       "    <tr>\n",
       "      <th>1569</th>\n",
       "      <td>1</td>\n",
       "      <td>0</td>\n",
       "    </tr>\n",
       "    <tr>\n",
       "      <th>1576</th>\n",
       "      <td>0</td>\n",
       "      <td>1</td>\n",
       "    </tr>\n",
       "    <tr>\n",
       "      <th>1586</th>\n",
       "      <td>1</td>\n",
       "      <td>0</td>\n",
       "    </tr>\n",
       "  </tbody>\n",
       "</table>\n",
       "<p>69 rows × 2 columns</p>\n",
       "</div>"
      ],
      "text/plain": [
       "      y_test  y_predict\n",
       "17         0          1\n",
       "40         1          0\n",
       "47         1          0\n",
       "74         1          0\n",
       "84         1          0\n",
       "...      ...        ...\n",
       "1525       1          0\n",
       "1567       1          0\n",
       "1569       1          0\n",
       "1576       0          1\n",
       "1586       1          0\n",
       "\n",
       "[69 rows x 2 columns]"
      ]
     },
     "execution_count": 144,
     "metadata": {},
     "output_type": "execute_result"
    }
   ],
   "source": [
    "res_df = pd.DataFrame([y_test, lr.predict(x_test)]).T\n",
    "res_df.columns = ['y_test','y_predict']\n",
    "res_df = res_df.loc[res_df.y_test != res_df.y_predict]\n",
    "res_df"
   ]
  },
  {
   "cell_type": "code",
   "execution_count": null,
   "metadata": {},
   "outputs": [],
   "source": []
  }
 ],
 "metadata": {
  "kernelspec": {
   "display_name": "Python 3",
   "language": "python",
   "name": "python3"
  },
  "language_info": {
   "codemirror_mode": {
    "name": "ipython",
    "version": 3
   },
   "file_extension": ".py",
   "mimetype": "text/x-python",
   "name": "python",
   "nbconvert_exporter": "python",
   "pygments_lexer": "ipython3",
   "version": "3.8.5"
  }
 },
 "nbformat": 4,
 "nbformat_minor": 4
}
