{
 "cells": [
  {
   "cell_type": "markdown",
   "metadata": {},
   "source": [
    "## Домашнее задание № 14. API and Web-scrapping."
   ]
  },
  {
   "cell_type": "markdown",
   "metadata": {},
   "source": [
    "### Задание 1\n",
    "\n",
    "- [ ] Будем парсить страницу со свежеми новостям на habr.com/ru/all/.\n",
    "\n",
    "\n",
    "Вам необходимо собирать только те статьи, в которых встречается хотя бы одно требуемое ключевое слово. Эти слова определяем в начале кода в переменной, например:\n",
    "\n",
    "KEYWORDS = ['python', 'парсинг']\n",
    "\n",
    "Поиск вести по всей доступной preview-информации (это информация, доступная непосредственно с текущей страницы).\n",
    "\n",
    "В итоге должен формироваться датафрейм вида: <дата> - <заголовок> - <ссылка>\n",
    "\n",
    "- [ ] Дополнительная часть (необязательная)\n",
    "\n",
    "\n",
    "Улучшить скрипт так, чтобы он анализировал не только preview-информацию статьи, но и весь текст статьи целиком.\n",
    "\n",
    "Для этого потребуется получать страницы статей и искать по тексту внутри этой страницы.\n",
    "\n",
    "Итоговый датафрейм формировать со столбцами: <дата> - <заголовок> - <ссылка> - <текст_статьи>"
   ]
  },
  {
   "cell_type": "code",
   "execution_count": 13,
   "metadata": {},
   "outputs": [],
   "source": [
    "# Импортируем необходимые для работы библиотеки:\n",
    "\n",
    "import time\n",
    "import pandas as pd\n",
    "import requests\n",
    "from bs4 import BeautifulSoup\n",
    "import re\n"
   ]
  },
  {
   "cell_type": "code",
   "execution_count": 14,
   "metadata": {},
   "outputs": [],
   "source": [
    "# Определяем набор ключевых слов для поиска статей\n",
    "KEYWORDS = ['SQL','Python','Райффайзенбанк','BigData']\n",
    "base_link = 'https://habr.com/ru/all/'\n",
    "\n",
    "# Делаем get-запрос к основной странице для поиска и превращаем ее с помощью BS\n",
    "req = requests.get(base_link)\n",
    "soup = BeautifulSoup(req.text, 'html.parser')"
   ]
  },
  {
   "cell_type": "code",
   "execution_count": 15,
   "metadata": {},
   "outputs": [],
   "source": [
    "# получаем список статей\n",
    "posts = soup.find_all('article', class_='post')\n"
   ]
  },
  {
   "cell_type": "code",
   "execution_count": 16,
   "metadata": {},
   "outputs": [
    {
     "data": {
      "text/plain": [
       "<h2 class=\"post__title\">\n",
       "<a class=\"post__title_link\" href=\"https://habr.com/ru/post/530670/\">Ядерная война, скорее всего, не приведёт к вымиранию человечества</a>\n",
       "</h2>"
      ]
     },
     "execution_count": 16,
     "metadata": {},
     "output_type": "execute_result"
    }
   ],
   "source": [
    "# В статьях находим заголовки, чтобы найти ссылку для перехода в полнотекстовую статью\n",
    "\n",
    "headers = list(map(lambda x: x.find('h2', class_='post__title'), posts))\n",
    "headers[0]"
   ]
  },
  {
   "cell_type": "code",
   "execution_count": 17,
   "metadata": {},
   "outputs": [
    {
     "data": {
      "text/plain": [
       "['https://habr.com/ru/post/530670/',\n",
       " 'https://habr.com/ru/company/gitlab/blog/530666/',\n",
       " 'https://habr.com/ru/post/530668/',\n",
       " 'https://habr.com/ru/post/530658/',\n",
       " 'https://habr.com/ru/post/530654/',\n",
       " 'https://habr.com/ru/company/netologyru/blog/530650/',\n",
       " 'https://habr.com/ru/post/530638/',\n",
       " 'https://habr.com/ru/company/selectel/blog/530648/',\n",
       " 'https://habr.com/ru/company/jugru/blog/530584/',\n",
       " 'https://habr.com/ru/post/529962/',\n",
       " 'https://habr.com/ru/company/kaspersky/blog/530644/',\n",
       " 'https://habr.com/ru/post/530636/',\n",
       " 'https://habr.com/ru/post/528762/',\n",
       " 'https://habr.com/ru/company/ruvds/blog/529828/',\n",
       " 'https://habr.com/ru/post/530614/',\n",
       " 'https://habr.com/ru/company/otus/blog/530612/',\n",
       " 'https://habr.com/ru/company/habr_career/blog/530586/',\n",
       " 'https://habr.com/ru/company/skillfactory/blog/530594/',\n",
       " 'https://habr.com/ru/post/530418/',\n",
       " 'https://habr.com/ru/company/habr_career/blog/530598/']"
      ]
     },
     "execution_count": 17,
     "metadata": {},
     "output_type": "execute_result"
    }
   ],
   "source": [
    "link_to_full = list(map(lambda x: x.find('a').get('href'), headers))\n",
    "link_to_full"
   ]
  },
  {
   "cell_type": "code",
   "execution_count": 18,
   "metadata": {},
   "outputs": [
    {
     "name": "stdout",
     "output_type": "stream",
     "text": [
      "/ru/all/page50/\n",
      "page 50\n",
      "['https://habr.com/ru/all/', 'https://habr.com/ru/all/page2', 'https://habr.com/ru/all/page3', 'https://habr.com/ru/all/page4', 'https://habr.com/ru/all/page5', 'https://habr.com/ru/all/page6', 'https://habr.com/ru/all/page7', 'https://habr.com/ru/all/page8', 'https://habr.com/ru/all/page9', 'https://habr.com/ru/all/page10', 'https://habr.com/ru/all/page11', 'https://habr.com/ru/all/page12', 'https://habr.com/ru/all/page13', 'https://habr.com/ru/all/page14', 'https://habr.com/ru/all/page15', 'https://habr.com/ru/all/page16', 'https://habr.com/ru/all/page17', 'https://habr.com/ru/all/page18', 'https://habr.com/ru/all/page19', 'https://habr.com/ru/all/page20', 'https://habr.com/ru/all/page21', 'https://habr.com/ru/all/page22', 'https://habr.com/ru/all/page23', 'https://habr.com/ru/all/page24', 'https://habr.com/ru/all/page25', 'https://habr.com/ru/all/page26', 'https://habr.com/ru/all/page27', 'https://habr.com/ru/all/page28', 'https://habr.com/ru/all/page29', 'https://habr.com/ru/all/page30', 'https://habr.com/ru/all/page31', 'https://habr.com/ru/all/page32', 'https://habr.com/ru/all/page33', 'https://habr.com/ru/all/page34', 'https://habr.com/ru/all/page35', 'https://habr.com/ru/all/page36', 'https://habr.com/ru/all/page37', 'https://habr.com/ru/all/page38', 'https://habr.com/ru/all/page39', 'https://habr.com/ru/all/page40', 'https://habr.com/ru/all/page41', 'https://habr.com/ru/all/page42', 'https://habr.com/ru/all/page43', 'https://habr.com/ru/all/page44', 'https://habr.com/ru/all/page45', 'https://habr.com/ru/all/page46', 'https://habr.com/ru/all/page47', 'https://habr.com/ru/all/page48', 'https://habr.com/ru/all/page49', 'https://habr.com/ru/all/page50']\n"
     ]
    }
   ],
   "source": [
    "# получаем ссылку на последнюю страницу и формируем набор страниц для парсинга\n",
    "link_to_last = soup.find('a', title='Последняя страница').get('href')\n",
    "print(link_to_last)\n",
    "last_page_num = re.search('(page)(\\d+)\\/',link_to_last)\n",
    "print(last_page_num.group(1),last_page_num.group(2))\n",
    "\n",
    "\n",
    "pages_for_scrap = [base_link,]\n",
    "for i in range(2, int(last_page_num.group(2))+1):\n",
    "    pages_for_scrap.append(base_link + last_page_num.group(1) + str(i))\n",
    "print(pages_for_scrap)"
   ]
  },
  {
   "cell_type": "code",
   "execution_count": 11,
   "metadata": {},
   "outputs": [
    {
     "data": {
      "text/html": [
       "<div>\n",
       "<style scoped>\n",
       "    .dataframe tbody tr th:only-of-type {\n",
       "        vertical-align: middle;\n",
       "    }\n",
       "\n",
       "    .dataframe tbody tr th {\n",
       "        vertical-align: top;\n",
       "    }\n",
       "\n",
       "    .dataframe thead th {\n",
       "        text-align: right;\n",
       "    }\n",
       "</style>\n",
       "<table border=\"1\" class=\"dataframe\">\n",
       "  <thead>\n",
       "    <tr style=\"text-align: right;\">\n",
       "      <th></th>\n",
       "      <th>post_date</th>\n",
       "      <th>post_title</th>\n",
       "      <th>URL</th>\n",
       "      <th>Full_Text</th>\n",
       "    </tr>\n",
       "  </thead>\n",
       "  <tbody>\n",
       "    <tr>\n",
       "      <th>0</th>\n",
       "      <td>2020-11-30T16:23Z</td>\n",
       "      <td>ESP32 в окружении VSCode</td>\n",
       "      <td>https://habr.com/ru/post/530638/</td>\n",
       "      <td>\\nВ нескольких следующих статьях я хотел бы де...</td>\n",
       "    </tr>\n",
       "    <tr>\n",
       "      <th>0</th>\n",
       "      <td>2020-11-30T15:30Z</td>\n",
       "      <td>Программа SmartData 2020</td>\n",
       "      <td>https://habr.com/ru/company/jugru/blog/530584/</td>\n",
       "      <td>\\n\\nМы уже рассказывали Хабру, что новая Smart...</td>\n",
       "    </tr>\n",
       "    <tr>\n",
       "      <th>0</th>\n",
       "      <td>2020-11-30T13:07Z</td>\n",
       "      <td>CTF-соревнования 2020 для «белых хакеров». Ста...</td>\n",
       "      <td>https://habr.com/ru/company/otus/blog/530612/</td>\n",
       "      <td>\\n\\n\\n\\nВ декабре OTUS при поддержке VolgaCTF ...</td>\n",
       "    </tr>\n",
       "    <tr>\n",
       "      <th>0</th>\n",
       "      <td>2020-11-30T12:58Z</td>\n",
       "      <td>Как разработать ансамбль Light Gradient Booste...</td>\n",
       "      <td>https://habr.com/ru/company/skillfactory/blog/...</td>\n",
       "      <td>\\nВ преддверии старта нового потока курса «Маш...</td>\n",
       "    </tr>\n",
       "    <tr>\n",
       "      <th>0</th>\n",
       "      <td>2020-11-30T11:44Z</td>\n",
       "      <td>Макропроблема микросервисов</td>\n",
       "      <td>https://habr.com/ru/company/mailru/blog/530528/</td>\n",
       "      <td>\\n\\r\\nВсего за 20 лет разработка ПО перешла от...</td>\n",
       "    </tr>\n",
       "  </tbody>\n",
       "</table>\n",
       "</div>"
      ],
      "text/plain": [
       "           post_date                                         post_title  \\\n",
       "0  2020-11-30T16:23Z                           ESP32 в окружении VSCode   \n",
       "0  2020-11-30T15:30Z                           Программа SmartData 2020   \n",
       "0  2020-11-30T13:07Z  CTF-соревнования 2020 для «белых хакеров». Ста...   \n",
       "0  2020-11-30T12:58Z  Как разработать ансамбль Light Gradient Booste...   \n",
       "0  2020-11-30T11:44Z                        Макропроблема микросервисов   \n",
       "\n",
       "                                                 URL  \\\n",
       "0                   https://habr.com/ru/post/530638/   \n",
       "0     https://habr.com/ru/company/jugru/blog/530584/   \n",
       "0      https://habr.com/ru/company/otus/blog/530612/   \n",
       "0  https://habr.com/ru/company/skillfactory/blog/...   \n",
       "0    https://habr.com/ru/company/mailru/blog/530528/   \n",
       "\n",
       "                                           Full_Text  \n",
       "0  \\nВ нескольких следующих статьях я хотел бы де...  \n",
       "0  \\n\\nМы уже рассказывали Хабру, что новая Smart...  \n",
       "0  \\n\\n\\n\\nВ декабре OTUS при поддержке VolgaCTF ...  \n",
       "0  \\nВ преддверии старта нового потока курса «Маш...  \n",
       "0  \\n\\r\\nВсего за 20 лет разработка ПО перешла от...  "
      ]
     },
     "execution_count": 11,
     "metadata": {},
     "output_type": "execute_result"
    }
   ],
   "source": [
    "# в full-статьях собираем необходимые данные\n",
    "\n",
    "result_df = pd.DataFrame()\n",
    "for article in link_to_full:\n",
    "    subreq = requests.get(article)\n",
    "    time.sleep(0.3)\n",
    "    subsoup = BeautifulSoup(subreq.text, 'html.parser')\n",
    "    # получаем полный текст статьи\n",
    "    post_full_text = subsoup.find('div', class_='post__body post__body_full').text\n",
    "    # проверяем на наличие ключевых слов\n",
    "    if any([keyword.lower() in post_full_text.lower() for keyword in KEYWORDS]):\n",
    "        # находим дату поста, заголовок и полный текст\n",
    "        post_date = subsoup.find('span', class_='post__time').get('data-time_published')\n",
    "        post_title = subsoup.find('span', class_='post__title-text').text\n",
    "        res_string = {'post_date': post_date, 'post_title': post_title, 'URL': article, 'Full_Text': post_full_text}\n",
    "        result_df = pd.concat([result_df, pd.DataFrame([res_string])])\n",
    "result_df\n",
    "    "
   ]
  },
  {
   "cell_type": "code",
   "execution_count": 19,
   "metadata": {},
   "outputs": [
    {
     "name": "stdout",
     "output_type": "stream",
     "text": [
      "Wall time: 20min 32s\n"
     ]
    },
    {
     "data": {
      "text/html": [
       "<div>\n",
       "<style scoped>\n",
       "    .dataframe tbody tr th:only-of-type {\n",
       "        vertical-align: middle;\n",
       "    }\n",
       "\n",
       "    .dataframe tbody tr th {\n",
       "        vertical-align: top;\n",
       "    }\n",
       "\n",
       "    .dataframe thead th {\n",
       "        text-align: right;\n",
       "    }\n",
       "</style>\n",
       "<table border=\"1\" class=\"dataframe\">\n",
       "  <thead>\n",
       "    <tr style=\"text-align: right;\">\n",
       "      <th></th>\n",
       "      <th>post_date</th>\n",
       "      <th>post_title</th>\n",
       "      <th>URL</th>\n",
       "      <th>Full_Text</th>\n",
       "    </tr>\n",
       "  </thead>\n",
       "  <tbody>\n",
       "    <tr>\n",
       "      <th>0</th>\n",
       "      <td>2020-11-30T19:15Z</td>\n",
       "      <td>Новые ограничения в использовании Docker Hub и...</td>\n",
       "      <td>https://habr.com/ru/company/gitlab/blog/530666/</td>\n",
       "      <td>\\nНи для кого уже не новость, что начиная с 2 ...</td>\n",
       "    </tr>\n",
       "    <tr>\n",
       "      <th>0</th>\n",
       "      <td>2020-11-30T16:23Z</td>\n",
       "      <td>ESP32 в окружении VSCode</td>\n",
       "      <td>https://habr.com/ru/post/530638/</td>\n",
       "      <td>\\nВ нескольких следующих статьях я хотел бы де...</td>\n",
       "    </tr>\n",
       "    <tr>\n",
       "      <th>0</th>\n",
       "      <td>2020-11-30T15:30Z</td>\n",
       "      <td>Программа SmartData 2020</td>\n",
       "      <td>https://habr.com/ru/company/jugru/blog/530584/</td>\n",
       "      <td>\\n\\nМы уже рассказывали Хабру, что новая Smart...</td>\n",
       "    </tr>\n",
       "    <tr>\n",
       "      <th>0</th>\n",
       "      <td>2020-11-30T13:07Z</td>\n",
       "      <td>CTF-соревнования 2020 для «белых хакеров». Ста...</td>\n",
       "      <td>https://habr.com/ru/company/otus/blog/530612/</td>\n",
       "      <td>\\n\\n\\n\\nВ декабре OTUS при поддержке VolgaCTF ...</td>\n",
       "    </tr>\n",
       "    <tr>\n",
       "      <th>0</th>\n",
       "      <td>2020-11-30T12:58Z</td>\n",
       "      <td>Как разработать ансамбль Light Gradient Booste...</td>\n",
       "      <td>https://habr.com/ru/company/skillfactory/blog/...</td>\n",
       "      <td>\\nВ преддверии старта нового потока курса «Маш...</td>\n",
       "    </tr>\n",
       "    <tr>\n",
       "      <th>...</th>\n",
       "      <td>...</td>\n",
       "      <td>...</td>\n",
       "      <td>...</td>\n",
       "      <td>...</td>\n",
       "    </tr>\n",
       "    <tr>\n",
       "      <th>0</th>\n",
       "      <td>2020-11-13T10:05Z</td>\n",
       "      <td>Релиз Apache Ignite 2.9.0 — что нового?</td>\n",
       "      <td>https://habr.com/ru/company/sberbank/blog/527870/</td>\n",
       "      <td>\\nApache Ignite – это высокопроизводительная р...</td>\n",
       "    </tr>\n",
       "    <tr>\n",
       "      <th>0</th>\n",
       "      <td>2020-11-13T06:30Z</td>\n",
       "      <td>Обзор операторов PostgreSQL для Kubernetes. Ча...</td>\n",
       "      <td>https://habr.com/ru/company/flant/blog/527524/</td>\n",
       "      <td>\\n\\n\\r\\nНа прошлую статью, где мы рассмотрели ...</td>\n",
       "    </tr>\n",
       "    <tr>\n",
       "      <th>0</th>\n",
       "      <td>2020-11-12T16:00Z</td>\n",
       "      <td>Ультимативный гайд по собеседованию DevOps-инж...</td>\n",
       "      <td>https://habr.com/ru/company/rebrainme/blog/527...</td>\n",
       "      <td>\\n\\n\\r\\nЯ начал заниматься сетями еще в школе,...</td>\n",
       "    </tr>\n",
       "    <tr>\n",
       "      <th>0</th>\n",
       "      <td>2020-11-12T15:53Z</td>\n",
       "      <td>Hey, Google: умные устройства будут активирова...</td>\n",
       "      <td>https://habr.com/ru/company/selectel/blog/527788/</td>\n",
       "      <td>\\n\\nPhoto by Cristian Cristian on Unsplash\\n\\r...</td>\n",
       "    </tr>\n",
       "    <tr>\n",
       "      <th>0</th>\n",
       "      <td>2020-11-12T15:46Z</td>\n",
       "      <td>Оптимизация моделей в Tensorflow 1.x</td>\n",
       "      <td>https://habr.com/ru/post/527786/</td>\n",
       "      <td>\\nTensorflow, хотя и сдаёт свои позиции в иссл...</td>\n",
       "    </tr>\n",
       "  </tbody>\n",
       "</table>\n",
       "<p>193 rows × 4 columns</p>\n",
       "</div>"
      ],
      "text/plain": [
       "            post_date                                         post_title  \\\n",
       "0   2020-11-30T19:15Z  Новые ограничения в использовании Docker Hub и...   \n",
       "0   2020-11-30T16:23Z                           ESP32 в окружении VSCode   \n",
       "0   2020-11-30T15:30Z                           Программа SmartData 2020   \n",
       "0   2020-11-30T13:07Z  CTF-соревнования 2020 для «белых хакеров». Ста...   \n",
       "0   2020-11-30T12:58Z  Как разработать ансамбль Light Gradient Booste...   \n",
       "..                ...                                                ...   \n",
       "0   2020-11-13T10:05Z            Релиз Apache Ignite 2.9.0 — что нового?   \n",
       "0   2020-11-13T06:30Z  Обзор операторов PostgreSQL для Kubernetes. Ча...   \n",
       "0   2020-11-12T16:00Z  Ультимативный гайд по собеседованию DevOps-инж...   \n",
       "0   2020-11-12T15:53Z  Hey, Google: умные устройства будут активирова...   \n",
       "0   2020-11-12T15:46Z               Оптимизация моделей в Tensorflow 1.x   \n",
       "\n",
       "                                                  URL  \\\n",
       "0     https://habr.com/ru/company/gitlab/blog/530666/   \n",
       "0                    https://habr.com/ru/post/530638/   \n",
       "0      https://habr.com/ru/company/jugru/blog/530584/   \n",
       "0       https://habr.com/ru/company/otus/blog/530612/   \n",
       "0   https://habr.com/ru/company/skillfactory/blog/...   \n",
       "..                                                ...   \n",
       "0   https://habr.com/ru/company/sberbank/blog/527870/   \n",
       "0      https://habr.com/ru/company/flant/blog/527524/   \n",
       "0   https://habr.com/ru/company/rebrainme/blog/527...   \n",
       "0   https://habr.com/ru/company/selectel/blog/527788/   \n",
       "0                    https://habr.com/ru/post/527786/   \n",
       "\n",
       "                                            Full_Text  \n",
       "0   \\nНи для кого уже не новость, что начиная с 2 ...  \n",
       "0   \\nВ нескольких следующих статьях я хотел бы де...  \n",
       "0   \\n\\nМы уже рассказывали Хабру, что новая Smart...  \n",
       "0   \\n\\n\\n\\nВ декабре OTUS при поддержке VolgaCTF ...  \n",
       "0   \\nВ преддверии старта нового потока курса «Маш...  \n",
       "..                                                ...  \n",
       "0   \\nApache Ignite – это высокопроизводительная р...  \n",
       "0   \\n\\n\\r\\nНа прошлую статью, где мы рассмотрели ...  \n",
       "0   \\n\\n\\r\\nЯ начал заниматься сетями еще в школе,...  \n",
       "0   \\n\\nPhoto by Cristian Cristian on Unsplash\\n\\r...  \n",
       "0   \\nTensorflow, хотя и сдаёт свои позиции в иссл...  \n",
       "\n",
       "[193 rows x 4 columns]"
      ]
     },
     "execution_count": 19,
     "metadata": {},
     "output_type": "execute_result"
    }
   ],
   "source": [
    "%%time\n",
    "KEYWORDS = ['SQL','Python','Райффайзенбанк','BigData']\n",
    "# финальная сборка по всем страницам\n",
    "result_df = pd.DataFrame()\n",
    "for page in pages_for_scrap:\n",
    "    mainreq = requests.get(page)\n",
    "    time.sleep(0.3)\n",
    "    mainsoup = BeautifulSoup(mainreq.text, 'html.parser')\n",
    "    # получаем список постов\n",
    "    posts = mainsoup.find_all('article', class_='post')\n",
    "    # в постах берем заголовки\n",
    "    headers = list(map(lambda x: x.find('h2', class_='post__title'), posts))\n",
    "    # в заголовках находим ссылки на полные тексты статей:\n",
    "    link_to_full = list(map(lambda x: x.find('a').get('href'), headers))\n",
    "    # по ссылкам страницы переходим и ищем статьи, которые подойдут нам по ключевым словам\n",
    "    for article in link_to_full:\n",
    "        subreq = requests.get(article)\n",
    "        time.sleep(0.3)\n",
    "        subsoup = BeautifulSoup(subreq.text, 'html.parser')\n",
    "        # получаем полный текст статьи\n",
    "        post_full_text = subsoup.find('div', class_='post__body post__body_full').text\n",
    "        # проверяем на наличие ключевых слов\n",
    "        if any([keyword.lower() in post_full_text.lower() for keyword in KEYWORDS]):\n",
    "            # находим дату поста, заголовок и полный текст\n",
    "            post_date = subsoup.find('span', class_='post__time').get('data-time_published')\n",
    "            post_title = subsoup.find('span', class_='post__title-text').text\n",
    "            res_string = {'post_date': post_date, 'post_title': post_title, 'URL': article, 'Full_Text': post_full_text}\n",
    "            result_df = pd.concat([result_df, pd.DataFrame([res_string])])\n",
    "            \n",
    "result_df"
   ]
  },
  {
   "cell_type": "code",
   "execution_count": 22,
   "metadata": {},
   "outputs": [
    {
     "name": "stdout",
     "output_type": "stream",
     "text": [
      "<class 'pandas.core.frame.DataFrame'>\n",
      "Int64Index: 193 entries, 0 to 0\n",
      "Data columns (total 4 columns):\n",
      " #   Column      Non-Null Count  Dtype \n",
      "---  ------      --------------  ----- \n",
      " 0   post_date   193 non-null    object\n",
      " 1   post_title  193 non-null    object\n",
      " 2   URL         193 non-null    object\n",
      " 3   Full_Text   193 non-null    object\n",
      "dtypes: object(4)\n",
      "memory usage: 7.5+ KB\n"
     ]
    }
   ],
   "source": [
    "result_df.info()"
   ]
  },
  {
   "cell_type": "code",
   "execution_count": null,
   "metadata": {},
   "outputs": [],
   "source": []
  }
 ],
 "metadata": {
  "kernelspec": {
   "display_name": "Python 3",
   "language": "python",
   "name": "python3"
  },
  "language_info": {
   "codemirror_mode": {
    "name": "ipython",
    "version": 3
   },
   "file_extension": ".py",
   "mimetype": "text/x-python",
   "name": "python",
   "nbconvert_exporter": "python",
   "pygments_lexer": "ipython3",
   "version": "3.8.3"
  }
 },
 "nbformat": 4,
 "nbformat_minor": 4
}
