{
 "cells": [
  {
   "cell_type": "markdown",
   "metadata": {},
   "source": [
    "## Python_Homework 1. Основы Python"
   ]
  },
  {
   "cell_type": "markdown",
   "metadata": {},
   "source": [
    "## **Задание 1**"
   ]
  },
  {
   "cell_type": "markdown",
   "metadata": {},
   "source": [
    "Даны 2 переменных, в которых хранятся строки произвольной длины: phrase_1 и phrase_2.\n",
    "Напишите код, который проверяет какая из этих строк длиннее. "
   ]
  },
  {
   "cell_type": "code",
   "execution_count": 7,
   "metadata": {},
   "outputs": [
    {
     "name": "stdout",
     "output_type": "stream",
     "text": [
      "Введите первую фразу640Кб должно хватить для любых задач. Билл Гейтс (по легенде)\n",
      "Введите вторую фразуНасколько проще было бы писать программы, если бы не заказчики\n",
      "Фраза 2 длиннее фразы 1\n"
     ]
    }
   ],
   "source": [
    "phrase_1 = input('Введите первую фразу')\n",
    "phrase_2 = input('Введите вторую фразу')\n",
    "\n",
    "if len(phrase_1) == len(phrase_2):\n",
    "    print('Фразы равной длины')\n",
    "elif len(phrase_1) > len(phrase_2):\n",
    "    print('Фраза 1 длиннее фразы 2')\n",
    "else:\n",
    "    print('Фраза 2 длиннее фразы 1')"
   ]
  },
  {
   "cell_type": "markdown",
   "metadata": {},
   "source": [
    "## **Задание 2**"
   ]
  },
  {
   "cell_type": "markdown",
   "metadata": {},
   "source": [
    "Дана переменная, в которой хранится четырехзначное число (год). Необходимо написать программу, которая выведет, является ли данный год високосным или обычным."
   ]
  },
  {
   "cell_type": "code",
   "execution_count": 3,
   "metadata": {},
   "outputs": [
    {
     "name": "stdout",
     "output_type": "stream",
     "text": [
      "Введите год2020\n",
      "Високосный\n"
     ]
    }
   ],
   "source": [
    "year = int(input('Введите год'))\n",
    "\n",
    "if year % 4 != 0 or (year % 100 == 0 and year % 400 != 0):\n",
    "    print('Обычный')\n",
    "else:\n",
    "    print('Високосный')"
   ]
  },
  {
   "cell_type": "markdown",
   "metadata": {},
   "source": [
    "## **Задание 3**"
   ]
  },
  {
   "cell_type": "markdown",
   "metadata": {},
   "source": [
    "Необходимо написать программу, которая будет запрашивать у пользователя месяц и дату рождения и выводить соответствующий знак зодиака."
   ]
  },
  {
   "cell_type": "code",
   "execution_count": 12,
   "metadata": {},
   "outputs": [
    {
     "name": "stdout",
     "output_type": "stream",
     "text": [
      "Введите месяц рождения (Текстом)август\n",
      "Введите день рождения13\n",
      "Ваш знак зодиака:Лев\n"
     ]
    }
   ],
   "source": [
    "month = input('Введите месяц рождения (Текстом)').upper()\n",
    "date = int(input('Введите день рождения'))\n",
    "if 1 <= date <= 31:\n",
    "    if (date>=21 and date<=31 and month=='МАРТ') or( month=='АПРЕЛЬ' and date>=1 and date<=19):\n",
    "\n",
    "       print(\"Ваш знак зодиака:Овен\")\n",
    "\n",
    "    elif (date>=20 and date<=30 and month=='АПРЕЛЬ') or( month=='МАЙ' and date>=1 and date<=20):\n",
    "\n",
    "       print(\"Ваш знак зодиака:Телец\")\n",
    "\n",
    "    elif (date>=21 and date<=31 and month=='МАЙ') or( month=='ИЮНЬ' and date>=1 and date<=21):\n",
    "\n",
    "       print(\"Ваш знак зодиака:Близнецы\")\n",
    "\n",
    "    elif (date>=22 and date<=30 and month=='ИЮНЬ') or( month=='ИЮЛЬ' and date>=1 and date<=22):\n",
    "\n",
    "       print(\"Ваш знак зодиака:Рак\")\n",
    "\n",
    "    elif (date>=23 and date<=31 and month=='ИЮЛЬ') or( month=='АВГУСТ' and date>=1 and date<=22):\n",
    "\n",
    "       print(\"Ваш знак зодиака:Лев\")\n",
    "\n",
    "    elif (date>=23 and date<=31 and month=='АВГУСТ') or( month=='СЕНТЯБРЬ' and date>=1 and date<=22):\n",
    "\n",
    "       print(\"Ваш знак зодиака:Дева\")\n",
    "\n",
    "    elif (date>=23 and date<=30 and month=='СЕНТЯБРЬ') or( month=='ОКТЯБРЬ' and date>=1 and date<=23):\n",
    "\n",
    "       print(\"Ваш знак зодиака:Весы\")\n",
    "\n",
    "    elif (date>=24 and date<=31 and month=='ОКТЯБРЬ') or( month=='НОЯБРЬ' and date>=1 and date<=22):\n",
    "\n",
    "       print(\"Ваш знак зодиака:Скорпион\")\n",
    "\n",
    "    elif (date>=23 and date<=30 and month=='НОЯБРЬ') or( month=='ДЕКАБРЬ' and date>=1 and date<=21):\n",
    "\n",
    "       print(\"Ваш знак зодиака:Стрелец\")\n",
    "\n",
    "    elif (date>=22 and date<=31 and month=='ДЕКАБРЬ') or( month=='ЯНВАРЬ' and date>=1 and date<=20):\n",
    "\n",
    "       print(\"Ваш знак зодиака:Козерог\")\n",
    "\n",
    "    elif (date>=21 and date<=31 and month=='ЯНВАРЬ') or( month=='ФЕВРАЛЬ' and date>=1 and date<=18):\n",
    "\n",
    "       print(\"Ваш знак зодиака:Водолей\")\n",
    "\n",
    "    elif (date>=19 and date<=29 and month=='ФЕВРАЛЬ') or( month=='МАРТ' and date>=1 and date<=20):\n",
    "\n",
    "       print(\"Ваш знак зодиака:Рыбы\")\n",
    "else:\n",
    "    print('Введите корректную дату')"
   ]
  },
  {
   "cell_type": "code",
   "execution_count": null,
   "metadata": {},
   "outputs": [],
   "source": []
  }
 ],
 "metadata": {
  "kernelspec": {
   "display_name": "Python 3",
   "language": "python",
   "name": "python3"
  },
  "language_info": {
   "codemirror_mode": {
    "name": "ipython",
    "version": 3
   },
   "file_extension": ".py",
   "mimetype": "text/x-python",
   "name": "python",
   "nbconvert_exporter": "python",
   "pygments_lexer": "ipython3",
   "version": "3.8.3"
  }
 },
 "nbformat": 4,
 "nbformat_minor": 4
}
